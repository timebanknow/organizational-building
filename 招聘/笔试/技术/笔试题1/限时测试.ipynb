{
 "cells": [
  {
   "cell_type": "markdown",
   "id": "5ca6dad2",
   "metadata": {},
   "source": [
    "# 要求：\n",
    "\n",
    "1.编程过程中，可以访问互联网，可以使用任何AI工具辅助编程，但是需要理解每一行代码意义（面试会提问），否则视为编程无效；\n",
    "\n",
    "2.编程时间最长30分钟，可提前完成（保证正确率和质量前提下提前完成可大幅提升面试通过率）；\n",
    "\n",
    "3.编程语言和编程环境根据候选人情况自行选择和准备（默认Python环境，不依赖tensorflow、深度学习等框架），以可运行性、正确性、完成质量、完成速度依次为判断标准优先级；\n",
    "\n",
    "4.杜绝任何作弊等不诚信行为，一旦发现，计入公司招聘黑名单库，并通报同行业参考：邀请其它人帮助或顶替完成编程等行为；\n",
    "\n",
    "5.请妥善安排时间，在30分钟内未完成一道题（无可运行并保证正确的代码输出）最低要求视为面试默认不通过，为节省彼此宝贵时间，可直接中止后续面试；\n",
    "\n",
    "6.最长30分钟编程时间结束后，有不超过15分钟准备等待面试沟通时间，可用于准备针对编程题目深入沟通；\n",
    "\n",
    "7.此轮面试时间整体最长不超过90分钟，请候选人合理安排时间。\n",
    "\n",
    "祝愿候选人发挥出优秀的水平，加入工程师文化的团队！"
   ]
  },
  {
   "cell_type": "markdown",
   "id": "28c137dd",
   "metadata": {},
   "source": [
    "## 题目一：整型数组最长公共子序列问题\n",
    "\n",
    "题目描述：给定两个整型数组ints1和ints1，返回这两个数组的最长公共子序列的长度。一个整型数组的子序列是指这样一个新的整型数组：它是由原整型数组在不改变数组内元素的相对顺序的情况下删除某些元素（也可以不删除数组内任何元素）后组成的新数组。\n",
    "\n",
    "输入：两个整型数组ints1和ints2。\n",
    "\n",
    "输出：一个整数，表示两个整型数组的最长公共子序列的长度。\n",
    "\n",
    "注意：除了完成可以运行并展示测试用例效果的代码（尤其注意各种边界条件），同步准备好状态转移方程，供面试沟通讲解环节使用。\n",
    "\n",
    "以下是实现该算法的代码框架，候选人可在此基础上完善优化代码,保证演示运行效果："
   ]
  },
  {
   "cell_type": "code",
   "execution_count": null,
   "id": "bddb4471",
   "metadata": {},
   "outputs": [],
   "source": [
    "def longest_common_subsequence(ints1, ints2):\n",
    "    \n",
    "    return 0\n",
    "\n",
    "# 示例调用\n",
    "ints1 = [1, 3, 5, 7, 9]\n",
    "ints2 = [2, 4, 6, 8, 10]\n",
    "print(longest_common_subsequence(ints1, ints2))"
   ]
  },
  {
   "cell_type": "markdown",
   "id": "3822eab9",
   "metadata": {},
   "source": [
    "## 题目二：图像超分辨率重建简化版\n",
    "\n",
    "题目描述：\n",
    "在实际应用中，图像超分辨率重建是一个重要的图像处理任务，旨在将低分辨率图像转换为高分辨率图像。本题目将考察你实现一个简化版图像超分辨率重建算法的能力。\n",
    "\n",
    "给定一张低分辨率的灰度图像，我们将使用简单的双线性插值方法对其进行上采样，从而得到高分辨率图像。双线性插值是一种在二维网格上进行插值的方法，通过对四个相邻像素的值进行加权平均来计算新像素的值。\n",
    "\n",
    "输入:\n",
    "\n",
    "  - 一张低分辨率的灰度图像，以二维数组形式表示，数组元素为像素值（范围 0 - 255）。\n",
    "  - 一个整数 `scale_factor`，表示上采样的倍数（例如 `scale_factor = 2` 表示将图像尺寸放大两倍）。\n",
    "\n",
    "输出: 一张高分辨率的灰度图像，以二维数组形式表示，数组元素为像素值（范围 0 - 255）。\n",
    "\n",
    "注：双线性插值原理\n",
    "\n",
    "![双线性插值原理](image1.png \"双线性插值原理\")\n",
    "![双线性插值原理](image2.png \"双线性插值原理\")\n",
    "\n",
    "代码实现要求:\n",
    "\n",
    "- 使用 Python 语言实现。\n",
    "- 不使用现有的图像处理库（如 OpenCV、PIL 等）中的双线性插值函数，需要手动实现双线性插值算法。\n",
    "- 代码需要处理边界情况，确保输出图像的尺寸正确。\n",
    "\n",
    "以下是实现该算法的代码框架，候选人可在此基础上完善优化代码,保证演示运行效果：\n"
   ]
  },
  {
   "cell_type": "code",
   "execution_count": null,
   "id": "841c7e5b",
   "metadata": {},
   "outputs": [],
   "source": [
    "def bilinear_upsampling(low_res_image, scale_factor):\n",
    "    \"\"\"\n",
    "    实现双线性插值上采样\n",
    "    :param low_res_image: 低分辨率灰度图像，二维数组\n",
    "    :param scale_factor: 上采样倍数\n",
    "    :return: 高分辨率灰度图像，二维数组\n",
    "    \"\"\"\n",
    "    # 获取低分辨率图像的高度和宽度\n",
    "    h, w = len(low_res_image), len(low_res_image[0])\n",
    "    # 计算高分辨率图像的高度和宽度\n",
    "    new_h = int(h * scale_factor)\n",
    "    new_w = int(w * scale_factor)\n",
    "    # 初始化高分辨率图像\n",
    "    high_res_image = [[0] * new_w for _ in range(new_h)]\n",
    "\n",
    "    # 实现双线性插值\n",
    "    for y in range(new_h):\n",
    "        for x in range(new_w):\n",
    "            # 计算对应的低分辨率图像坐标\n",
    "            x_lr = x / scale_factor\n",
    "            y_lr = y / scale_factor\n",
    "            # 计算相邻整数坐标\n",
    "            x1 = int(x_lr)\n",
    "            x2 = min(x1 + 1, w - 1)\n",
    "            y1 = int(y_lr)\n",
    "            y2 = min(y1 + 1, h - 1)\n",
    "            # 计算插值系数\n",
    "            u = x_lr - x1\n",
    "            v = y_lr - y1\n",
    "\n",
    "            # 计算插值结果\n",
    "            # 此处需要候选人补充代码\n",
    "\n",
    "    return high_res_image\n",
    "\n",
    "# 示例调用\n",
    "low_res_image = [\n",
    "    [10, 20],\n",
    "    [30, 40]\n",
    "]\n",
    "scale_factor = 2\n",
    "high_res_image = bilinear_upsampling(low_res_image, scale_factor)\n",
    "for row in high_res_image:\n",
    "    print(row)"
   ]
  },
  {
   "cell_type": "markdown",
   "id": "121fe6bf",
   "metadata": {},
   "source": [
    "## 题目三：地下城游戏\n",
    "\n",
    "题目描述：给定一个二维 m*n 整型数组dungeon表示地下城的地图，每个单元格的整型值表示玩家进入该单元格时需要损失的生命值。玩家初始位于左上角(0, 0)，目标是到达右下角(m - 1, n - 1)。玩家需要在保证生命值大于等于1的情况下，尽可能少地损失生命值。求玩家初始至少需要多少生命值才能成功到达右下角？\n",
    "\n",
    "输入：二维 m*n 整型数组dungeon。\n",
    "\n",
    "输出：一个整数，表示玩家初始至少需要的生命值。\n",
    "\n",
    "注意：除了完成可以运行并展示测试用例效果的代码（尤其注意各种边界条件），同步准备好数学推导过程，供面试沟通讲解环节使用。\n",
    "\n",
    "以下是实现该算法的代码框架，候选人可在此基础上完善优化代码,保证演示运行效果："
   ]
  },
  {
   "cell_type": "code",
   "execution_count": null,
   "id": "3098721d",
   "metadata": {},
   "outputs": [],
   "source": [
    "def calculate_minimum_hp(dungeon):\n",
    "    \n",
    "    return 1\n",
    "\n",
    "# 示例调用\n",
    "dungeon = [\n",
    "    [-2, -3, 3],\n",
    "    [-5, -10, 1],\n",
    "    [10, 30, -5]\n",
    "]\n",
    "print(calculate_minimum_hp(dungeon))"
   ]
  }
 ],
 "metadata": {
  "kernelspec": {
   "display_name": "Python 3",
   "language": "python",
   "name": "python3"
  },
  "language_info": {
   "codemirror_mode": {
    "name": "ipython",
    "version": 3
   },
   "file_extension": ".py",
   "mimetype": "text/x-python",
   "name": "python",
   "nbconvert_exporter": "python",
   "pygments_lexer": "ipython3",
   "version": "3.10.0"
  }
 },
 "nbformat": 4,
 "nbformat_minor": 5
}
